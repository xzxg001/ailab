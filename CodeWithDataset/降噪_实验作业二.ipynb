{
 "cells": [
  {
   "cell_type": "markdown",
   "id": "8c9fda4c-4d10-44b0-86d9-0187ae18ed6a",
   "metadata": {},
   "source": [
    "### 使用opensmile提取音频特征"
   ]
  },
  {
   "cell_type": "code",
   "execution_count": 85,
   "id": "3061bfb7-790b-40e4-84a5-21777e581d49",
   "metadata": {},
   "outputs": [],
   "source": [
    "import opensmile\n",
    "import pandas as pd\n",
    "import os\n",
    "import sklearn\n",
    "import matplotlib.pyplot as plt\n",
    "import numpy as np\n",
    "from sklearn.preprocessing import StandardScaler, MinMaxScaler"
   ]
  },
  {
   "cell_type": "markdown",
   "id": "1b3d66b3-1655-4c09-90fb-7c45cb291a4c",
   "metadata": {},
   "source": [
    "## 1、构造特征提取函数"
   ]
  },
  {
   "cell_type": "code",
   "execution_count": 86,
   "id": "037185c3-14fb-48b7-894e-8870d1786124",
   "metadata": {},
   "outputs": [],
   "source": [
    "## 提取特征函数\n",
    "## file_list:音频文件路径的列表  list类型\n",
    "## 返回值numpy.ndarray  形状:(len(file_list),88)\n",
    "def extract_audio_feature(file_list,save_path):\n",
    "    # 如果已存在保存的特征文件，则直接加载\n",
    "    if os.path.exists(save_path):\n",
    "        print(f\"已找到保存的特征文件 '{save_path}'，正在加载...\")\n",
    "        feature = np.load(save_path)\n",
    "        print(\"特征加载完毕！\")\n",
    "        return feature    \n",
    "    print(\"请耐心等待特征提取完！\")\n",
    "    smile = opensmile.Smile(\n",
    "    feature_set=opensmile.FeatureSet.eGeMAPSv02,\n",
    "    feature_level=opensmile.FeatureLevel.Functionals)#指定了特征集（eGeMAPSv02）和特征级别（Functionals）\n",
    "    feature = []\n",
    "    for n,file in enumerate(file_list):#enumerate函数用于遍历，返回一个迭代器（索引和值）\n",
    "        y = smile.process_file(file)#调用process_file函数处理音频文件\n",
    "        y = y.to_numpy().reshape(-1)#-1 表示自动计算这一维的大小\n",
    "        feature.append(y)\n",
    "        if (n+1)%100 == 0:\n",
    "            print(f\"当前进度{n+1}/{len(file_list)}\")\n",
    "    print(\"此次特征提取已结束\")\n",
    "    print(\"-------------------------------\")\n",
    "    feature = np.stack(feature,axis = 0)\n",
    "    # 将特征保存到指定的文件中\n",
    "    np.save(save_path, feature)\n",
    "    print(f\"特征已保存到文件 '{save_path}'\")\n",
    "    \n",
    "    return feature"
   ]
  },
  {
   "cell_type": "code",
   "execution_count": 87,
   "id": "313ead32",
   "metadata": {},
   "outputs": [],
   "source": [
    "def normalize_features(features, scaler=None, method='minmax'):\n",
    "    \"\"\"\n",
    "    对已提取的特征进行归一化或标准化处理，并应用训练集的归一化参数。\n",
    "    \n",
    "    参数:\n",
    "    features: numpy.ndarray, 待归一化的特征数据，形状为 (n_samples, n_features)\n",
    "    scaler: 已拟合的归一化器（标准化或归一化器），如果没有提供，则会根据训练集拟合一个新的\n",
    "    method: str, 归一化方法，'standard'为标准化（Z-score），'minmax'为最小-最大归一化，默认 'standard'\n",
    "    \n",
    "    返回:\n",
    "    numpy.ndarray: 归一化后的特征数据\n",
    "    \"\"\"\n",
    "    if method == 'standard':  # 使用标准化 (Z-score)\n",
    "        if scaler is None:  # 如果没有提供 scaler，就拟合一个新的\n",
    "            scaler = StandardScaler()\n",
    "            features = scaler.fit_transform(features)\n",
    "        else:  # 如果提供了 scaler，就应用已经拟合好的归一化参数\n",
    "            features = scaler.transform(features)\n",
    "        print(\"标准化（Z-score）完成\")\n",
    "    \n",
    "    elif method == 'minmax':  # 使用最小-最大归一化\n",
    "        if scaler is None:\n",
    "            scaler = MinMaxScaler()\n",
    "            features = scaler.fit_transform(features)\n",
    "        else:\n",
    "            features = scaler.transform(features)\n",
    "        print(\"最小-最大归一化完成\")\n",
    "    \n",
    "    else:\n",
    "        raise ValueError(\"未知的归一化方法，请选择 'standard' 或 'minmax'。\")\n",
    "    \n",
    "    return features, scaler"
   ]
  },
  {
   "cell_type": "code",
   "execution_count": 88,
   "id": "52c093c8-ffc1-4c3c-ac38-5cdb0f52ba18",
   "metadata": {},
   "outputs": [],
   "source": [
    "## 特征提取示例\n",
    "#file = \"./train/Ses01F_impro01_F000.wav\"\n",
    "#audio_feature = extract_audio_feature([file])\n",
    "#print(type(audio_feature),audio_feature.shape)"
   ]
  },
  {
   "cell_type": "markdown",
   "id": "6b942c23-9f97-48a5-9c04-395639fd3a66",
   "metadata": {},
   "source": [
    "## 2、csv文件读入示例"
   ]
  },
  {
   "cell_type": "code",
   "execution_count": 89,
   "id": "2996d3bc-d357-4668-a624-a76d3f4fe372",
   "metadata": {},
   "outputs": [],
   "source": [
    "## 读入csv文件示例\n",
    "## 由于我们的csv文件使用\"#\"分隔，需要定义sep参数为\"#\",否则会读取失败！！！\n",
    "train_csv = pd.read_csv(\"./CSVfile/train.csv\",sep=\"#\")"
   ]
  },
  {
   "cell_type": "code",
   "execution_count": 90,
   "id": "743c4b1c-beb9-4802-8ad4-eaff49fa7f39",
   "metadata": {},
   "outputs": [
    {
     "data": {
      "text/html": [
       "<div>\n",
       "<style scoped>\n",
       "    .dataframe tbody tr th:only-of-type {\n",
       "        vertical-align: middle;\n",
       "    }\n",
       "\n",
       "    .dataframe tbody tr th {\n",
       "        vertical-align: top;\n",
       "    }\n",
       "\n",
       "    .dataframe thead th {\n",
       "        text-align: right;\n",
       "    }\n",
       "</style>\n",
       "<table border=\"1\" class=\"dataframe\">\n",
       "  <thead>\n",
       "    <tr style=\"text-align: right;\">\n",
       "      <th></th>\n",
       "      <th>num</th>\n",
       "      <th>id</th>\n",
       "      <th>path</th>\n",
       "      <th>text</th>\n",
       "      <th>label</th>\n",
       "    </tr>\n",
       "  </thead>\n",
       "  <tbody>\n",
       "    <tr>\n",
       "      <th>0</th>\n",
       "      <td>1</td>\n",
       "      <td>Ses01F_impro01_F000</td>\n",
       "      <td>train/Ses01F_impro01_F000.wav</td>\n",
       "      <td>Excuse me.</td>\n",
       "      <td>2</td>\n",
       "    </tr>\n",
       "    <tr>\n",
       "      <th>1</th>\n",
       "      <td>2</td>\n",
       "      <td>Ses01F_impro01_F001</td>\n",
       "      <td>train/Ses01F_impro01_F001.wav</td>\n",
       "      <td>Yeah.</td>\n",
       "      <td>2</td>\n",
       "    </tr>\n",
       "    <tr>\n",
       "      <th>2</th>\n",
       "      <td>3</td>\n",
       "      <td>Ses01F_impro01_F002</td>\n",
       "      <td>train/Ses01F_impro01_F002.wav</td>\n",
       "      <td>Is there a problem?</td>\n",
       "      <td>2</td>\n",
       "    </tr>\n",
       "    <tr>\n",
       "      <th>3</th>\n",
       "      <td>4</td>\n",
       "      <td>Ses01F_impro01_F005</td>\n",
       "      <td>train/Ses01F_impro01_F005.wav</td>\n",
       "      <td>Well what's the problem?  Let me change it.</td>\n",
       "      <td>2</td>\n",
       "    </tr>\n",
       "    <tr>\n",
       "      <th>4</th>\n",
       "      <td>5</td>\n",
       "      <td>Ses01F_impro01_F012</td>\n",
       "      <td>train/Ses01F_impro01_F012.wav</td>\n",
       "      <td>That's out of control.</td>\n",
       "      <td>0</td>\n",
       "    </tr>\n",
       "  </tbody>\n",
       "</table>\n",
       "</div>"
      ],
      "text/plain": [
       "   num                   id                           path  \\\n",
       "0    1  Ses01F_impro01_F000  train/Ses01F_impro01_F000.wav   \n",
       "1    2  Ses01F_impro01_F001  train/Ses01F_impro01_F001.wav   \n",
       "2    3  Ses01F_impro01_F002  train/Ses01F_impro01_F002.wav   \n",
       "3    4  Ses01F_impro01_F005  train/Ses01F_impro01_F005.wav   \n",
       "4    5  Ses01F_impro01_F012  train/Ses01F_impro01_F012.wav   \n",
       "\n",
       "                                          text  label  \n",
       "0                                   Excuse me.      2  \n",
       "1                                        Yeah.      2  \n",
       "2                          Is there a problem?      2  \n",
       "3  Well what's the problem?  Let me change it.      2  \n",
       "4                       That's out of control.      0  "
      ]
     },
     "execution_count": 90,
     "metadata": {},
     "output_type": "execute_result"
    }
   ],
   "source": [
    "## 快速查看前5条数据\n",
    "train_csv.head(5)"
   ]
  },
  {
   "cell_type": "code",
   "execution_count": 91,
   "id": "b5ab3872-3da8-4f5f-9331-b72a4ddbd472",
   "metadata": {},
   "outputs": [
    {
     "data": {
      "text/plain": [
       "label\n",
       "2    1066\n",
       "1     891\n",
       "3     696\n",
       "0     606\n",
       "Name: count, dtype: int64"
      ]
     },
     "execution_count": 91,
     "metadata": {},
     "output_type": "execute_result"
    }
   ],
   "source": [
    "## 统计该csv下lable列不同值的数量\n",
    "train_csv.value_counts(subset=\"label\")"
   ]
  },
  {
   "cell_type": "code",
   "execution_count": 92,
   "id": "3d370b09-9821-4109-991c-493c0954b27f",
   "metadata": {},
   "outputs": [
    {
     "data": {
      "text/plain": [
       "Text(0.5, 1.0, 'Train dataset sample distribution')"
      ]
     },
     "execution_count": 92,
     "metadata": {},
     "output_type": "execute_result"
    },
    {
     "data": {
      "image/png": "[encoded data removed]",
      "text/plain": [
       "<Figure size 640x480 with 1 Axes>"
      ]
     },
     "metadata": {},
     "output_type": "display_data"
    }
   ],
   "source": [
    "## 画图显示类别数\n",
    "plt.bar([0,1,2,3],list(train_csv.value_counts(subset=\"label\")),tick_label = [\"0\",\"1\",\"2\",\"3\"])\n",
    "plt.xlabel(\"Label\")\n",
    "plt.ylabel(\"Num\")\n",
    "plt.title(\"Train dataset sample distribution\")"
   ]
  },
  {
   "cell_type": "markdown",
   "id": "0e484248-1338-44b6-87d4-75220e0a6f3f",
   "metadata": {},
   "source": [
    "## 3、性能指标函数"
   ]
  },
  {
   "cell_type": "code",
   "execution_count": 93,
   "id": "26ee6440-0f98-4edd-874e-a21f56be1d7f",
   "metadata": {},
   "outputs": [],
   "source": [
    "from sklearn.metrics import accuracy_score, f1_score, precision_score, recall_score, confusion_matrix"
   ]
  },
  {
   "cell_type": "code",
   "execution_count": 94,
   "id": "6f5bf921-2d72-4144-bdc1-e4cde8fbd009",
   "metadata": {},
   "outputs": [],
   "source": [
    "def calculate_score_classification(preds, labels, average_f1='macro'):  # weighted, macro\n",
    "    accuracy = accuracy_score(labels, preds)\n",
    "    f1 = f1_score(labels, preds, average=average_f1, zero_division=0)\n",
    "    precision = precision_score(labels, preds, average='macro', zero_division=0)\n",
    "    ua = recall_score(labels, preds, average='macro', zero_division=0)\n",
    "    confuse_matrix = confusion_matrix(labels, preds)\n",
    "    return accuracy, ua, f1, precision, confuse_matrix"
   ]
  },
  {
   "cell_type": "markdown",
   "id": "56698ac9-01ae-4e00-8dc4-62e69d12fad8",
   "metadata": {},
   "source": [
    "### 4、构造机器学习模型"
   ]
  },
  {
   "cell_type": "code",
   "execution_count": 95,
   "id": "36e664f2-00f8-444a-aecd-60e92b3462ed",
   "metadata": {},
   "outputs": [],
   "source": [
    "from sklearn.svm import SVC\n",
    "from sklearn.model_selection import train_test_split\n",
    "from skopt import BayesSearchCV  # 导入贝叶斯优化类\n",
    "from skopt.space import Real, Categorical, Integer\n",
    "from skopt.utils import use_named_args\n",
    "\n",
    "from skopt import BayesSearchCV\n",
    "from skopt.space import Real, Categorical, Integer\n",
    "from sklearn.svm import SVC\n",
    "\n",
    "class MyRF:\n",
    "    def __init__(self,C=0.01, kernel='poly',gamma='scale'):\n",
    "        self.model = SVC(kernel=kernel, C=C, gamma=gamma,class_weight=None)\n",
    "        self.param_space = {\n",
    "            # 'C': Real(0.01, 4, prior='log-uniform'),  # C的范围\n",
    "            # 'gamma': Categorical(['scale']) ,\n",
    "            'degree': Integer(4, 8),  # 仅对poly核有效，表示多项式核的度数\n",
    "            'coef0': Real(-1.0, 1.0),  # poly和sigmoid核的偏置项\n",
    "            # 处理类别不平衡\n",
    "            'tol': Real(5e-5, 1e-1, prior='log-uniform'),  # 容忍度范围，采用对数均匀分布\n",
    "        }\n",
    "\n",
    "    def train(self, features, labels):\n",
    "        print(\"开始贝叶斯优化...\")\n",
    "\n",
    "        # 使用贝叶斯优化来寻找最佳参数\n",
    "        bayes_search = BayesSearchCV(self.model, self.param_space, n_iter=100, cv=5, scoring='f1_macro', verbose=1)\n",
    "        bayes_search.fit(features, labels)\n",
    "        \n",
    "        print(\"贝叶斯优化完成，最佳参数：\", bayes_search.best_params_)\n",
    "        self.model = bayes_search.best_estimator_\n",
    "        print(\"SVM模型训练完成！\")\n",
    "\n",
    "    def evaluate(self, features, labels):\n",
    "        # 在验证集上评估模型\n",
    "        print(\"开始评估模型...\")\n",
    "        preds = self.model.predict(features)\n",
    "        accuracy, recall, f1, precision, conf_matrix = calculate_score_classification(preds, labels)\n",
    "        return accuracy, recall, f1, precision, conf_matrix"
   ]
  },
  {
   "cell_type": "markdown",
   "id": "c9455c40-5fbb-4246-be20-f34e6110ac3a",
   "metadata": {},
   "source": [
    "## 5、读取csv文件，分离音频文件路径、标签"
   ]
  },
  {
   "cell_type": "code",
   "execution_count": 96,
   "id": "8b93e714-a3c8-4185-9129-377a8001a14a",
   "metadata": {},
   "outputs": [],
   "source": [
    "## 读取train.csv、dev.csv\n",
    "train_csv = pd.read_csv(\"./CSVfile/train.csv\", sep = \"#\")\n",
    "dev_csv = pd.read_csv(\"./CSVfile/dev.csv\", sep = \"#\")\n",
    "## 分离文件路径和标签\n",
    "## 可先截取少量样本验证代码正确性，再使用所有样本\n",
    "# train_path = list(train_csv.path)[:100]\n",
    "# train_label = list(train_csv.label)[:100]\n",
    "# dev_path = list(dev_csv.path)[:50]\n",
    "# dev_label = list(dev_csv.label)[:50]\n",
    "\n",
    "train_path = list(train_csv.path)\n",
    "train_label = list(train_csv.label)\n",
    "dev_path = list(dev_csv.path)\n",
    "dev_label = list(dev_csv.label)"
   ]
  },
  {
   "cell_type": "markdown",
   "id": "21e94ff3-cfe9-46e4-bdc3-68d2c71e67a1",
   "metadata": {},
   "source": [
    "## 6、结果写入函数"
   ]
  },
  {
   "cell_type": "code",
   "execution_count": 97,
   "id": "080fa340-a9ca-48ff-abec-187b4a65dfe7",
   "metadata": {},
   "outputs": [],
   "source": [
    "## test_preds 长度为1241的list，对应测试集中1241个样本的标签\n",
    "##运行后会在当前目录生成result.csv文件，提交result.csv文件即可\n",
    "##如果没有生成，请检查test_preds的长度是否为1241！\n",
    "def write_result(test_preds):\n",
    "    if len(test_preds) != 1241:\n",
    "        print(\"错误！请检查test_preds长度是否为1241！！！\")\n",
    "        return -1\n",
    "    test_csv = pd.read_csv(\"./CSVfile/test.csv\",sep=\"#\")\n",
    "    test_csv[\"label\"] = test_preds\n",
    "    test_csv.to_csv(\"./result.csv\",sep = \"#\")\n",
    "    print(\"测试集预测结果已成功写入到文件中！\")"
   ]
  },
  {
   "cell_type": "markdown",
   "id": "70446b3a-cc68-422c-9d2c-afea8df57fb8",
   "metadata": {},
   "source": [
    "## 7、特征预处理函数、主函数"
   ]
  },
  {
   "cell_type": "code",
   "execution_count": 98,
   "id": "b89011cb-de51-47da-9043-7b3371877d03",
   "metadata": {},
   "outputs": [
    {
     "name": "stdout",
     "output_type": "stream",
     "text": [
      "已找到保存的特征文件 './feature/train_feature.npy'，正在加载...\n",
      "特征加载完毕！\n",
      "最小-最大归一化完成\n",
      "开始贝叶斯优化...\n",
      "Fitting 5 folds for each of 1 candidates, totalling 5 fits\n"
     ]
    },
    {
     "name": "stdout",
     "output_type": "stream",
     "text": [
      "Fitting 5 folds for each of 1 candidates, totalling 5 fits\n",
      "Fitting 5 folds for each of 1 candidates, totalling 5 fits\n",
      "Fitting 5 folds for each of 1 candidates, totalling 5 fits\n",
      "Fitting 5 folds for each of 1 candidates, totalling 5 fits\n",
      "Fitting 5 folds for each of 1 candidates, totalling 5 fits\n",
      "Fitting 5 folds for each of 1 candidates, totalling 5 fits\n",
      "Fitting 5 folds for each of 1 candidates, totalling 5 fits\n",
      "Fitting 5 folds for each of 1 candidates, totalling 5 fits\n",
      "Fitting 5 folds for each of 1 candidates, totalling 5 fits\n",
      "Fitting 5 folds for each of 1 candidates, totalling 5 fits\n",
      "Fitting 5 folds for each of 1 candidates, totalling 5 fits\n",
      "Fitting 5 folds for each of 1 candidates, totalling 5 fits\n",
      "Fitting 5 folds for each of 1 candidates, totalling 5 fits\n",
      "Fitting 5 folds for each of 1 candidates, totalling 5 fits\n",
      "Fitting 5 folds for each of 1 candidates, totalling 5 fits\n",
      "Fitting 5 folds for each of 1 candidates, totalling 5 fits\n",
      "Fitting 5 folds for each of 1 candidates, totalling 5 fits\n",
      "Fitting 5 folds for each of 1 candidates, totalling 5 fits\n",
      "Fitting 5 folds for each of 1 candidates, totalling 5 fits\n",
      "Fitting 5 folds for each of 1 candidates, totalling 5 fits\n",
      "Fitting 5 folds for each of 1 candidates, totalling 5 fits\n",
      "Fitting 5 folds for each of 1 candidates, totalling 5 fits\n",
      "Fitting 5 folds for each of 1 candidates, totalling 5 fits\n",
      "Fitting 5 folds for each of 1 candidates, totalling 5 fits\n",
      "Fitting 5 folds for each of 1 candidates, totalling 5 fits\n",
      "Fitting 5 folds for each of 1 candidates, totalling 5 fits\n",
      "Fitting 5 folds for each of 1 candidates, totalling 5 fits\n",
      "Fitting 5 folds for each of 1 candidates, totalling 5 fits\n",
      "Fitting 5 folds for each of 1 candidates, totalling 5 fits\n",
      "Fitting 5 folds for each of 1 candidates, totalling 5 fits\n",
      "Fitting 5 folds for each of 1 candidates, totalling 5 fits\n",
      "Fitting 5 folds for each of 1 candidates, totalling 5 fits\n",
      "Fitting 5 folds for each of 1 candidates, totalling 5 fits\n",
      "Fitting 5 folds for each of 1 candidates, totalling 5 fits\n",
      "Fitting 5 folds for each of 1 candidates, totalling 5 fits\n",
      "Fitting 5 folds for each of 1 candidates, totalling 5 fits\n",
      "Fitting 5 folds for each of 1 candidates, totalling 5 fits\n",
      "Fitting 5 folds for each of 1 candidates, totalling 5 fits\n",
      "Fitting 5 folds for each of 1 candidates, totalling 5 fits\n",
      "Fitting 5 folds for each of 1 candidates, totalling 5 fits\n",
      "Fitting 5 folds for each of 1 candidates, totalling 5 fits\n",
      "Fitting 5 folds for each of 1 candidates, totalling 5 fits\n",
      "Fitting 5 folds for each of 1 candidates, totalling 5 fits\n",
      "Fitting 5 folds for each of 1 candidates, totalling 5 fits\n",
      "Fitting 5 folds for each of 1 candidates, totalling 5 fits\n",
      "Fitting 5 folds for each of 1 candidates, totalling 5 fits\n",
      "Fitting 5 folds for each of 1 candidates, totalling 5 fits\n",
      "Fitting 5 folds for each of 1 candidates, totalling 5 fits\n",
      "Fitting 5 folds for each of 1 candidates, totalling 5 fits\n",
      "Fitting 5 folds for each of 1 candidates, totalling 5 fits\n",
      "Fitting 5 folds for each of 1 candidates, totalling 5 fits\n",
      "Fitting 5 folds for each of 1 candidates, totalling 5 fits\n",
      "Fitting 5 folds for each of 1 candidates, totalling 5 fits\n",
      "Fitting 5 folds for each of 1 candidates, totalling 5 fits\n",
      "Fitting 5 folds for each of 1 candidates, totalling 5 fits\n",
      "Fitting 5 folds for each of 1 candidates, totalling 5 fits\n",
      "Fitting 5 folds for each of 1 candidates, totalling 5 fits\n",
      "Fitting 5 folds for each of 1 candidates, totalling 5 fits\n",
      "Fitting 5 folds for each of 1 candidates, totalling 5 fits\n",
      "Fitting 5 folds for each of 1 candidates, totalling 5 fits\n",
      "Fitting 5 folds for each of 1 candidates, totalling 5 fits\n",
      "Fitting 5 folds for each of 1 candidates, totalling 5 fits\n",
      "Fitting 5 folds for each of 1 candidates, totalling 5 fits\n",
      "Fitting 5 folds for each of 1 candidates, totalling 5 fits\n",
      "Fitting 5 folds for each of 1 candidates, totalling 5 fits\n",
      "Fitting 5 folds for each of 1 candidates, totalling 5 fits\n",
      "Fitting 5 folds for each of 1 candidates, totalling 5 fits\n",
      "Fitting 5 folds for each of 1 candidates, totalling 5 fits\n",
      "Fitting 5 folds for each of 1 candidates, totalling 5 fits\n",
      "Fitting 5 folds for each of 1 candidates, totalling 5 fits\n",
      "Fitting 5 folds for each of 1 candidates, totalling 5 fits\n",
      "Fitting 5 folds for each of 1 candidates, totalling 5 fits\n",
      "Fitting 5 folds for each of 1 candidates, totalling 5 fits\n",
      "Fitting 5 folds for each of 1 candidates, totalling 5 fits\n",
      "Fitting 5 folds for each of 1 candidates, totalling 5 fits\n",
      "Fitting 5 folds for each of 1 candidates, totalling 5 fits\n",
      "Fitting 5 folds for each of 1 candidates, totalling 5 fits\n",
      "Fitting 5 folds for each of 1 candidates, totalling 5 fits\n",
      "Fitting 5 folds for each of 1 candidates, totalling 5 fits\n",
      "Fitting 5 folds for each of 1 candidates, totalling 5 fits\n",
      "Fitting 5 folds for each of 1 candidates, totalling 5 fits\n",
      "Fitting 5 folds for each of 1 candidates, totalling 5 fits\n",
      "Fitting 5 folds for each of 1 candidates, totalling 5 fits\n",
      "Fitting 5 folds for each of 1 candidates, totalling 5 fits\n",
      "Fitting 5 folds for each of 1 candidates, totalling 5 fits\n",
      "Fitting 5 folds for each of 1 candidates, totalling 5 fits\n",
      "Fitting 5 folds for each of 1 candidates, totalling 5 fits\n",
      "Fitting 5 folds for each of 1 candidates, totalling 5 fits\n",
      "Fitting 5 folds for each of 1 candidates, totalling 5 fits\n",
      "Fitting 5 folds for each of 1 candidates, totalling 5 fits\n",
      "Fitting 5 folds for each of 1 candidates, totalling 5 fits\n",
      "Fitting 5 folds for each of 1 candidates, totalling 5 fits\n",
      "Fitting 5 folds for each of 1 candidates, totalling 5 fits\n",
      "Fitting 5 folds for each of 1 candidates, totalling 5 fits\n",
      "Fitting 5 folds for each of 1 candidates, totalling 5 fits\n",
      "Fitting 5 folds for each of 1 candidates, totalling 5 fits\n",
      "Fitting 5 folds for each of 1 candidates, totalling 5 fits\n",
      "Fitting 5 folds for each of 1 candidates, totalling 5 fits\n",
      "Fitting 5 folds for each of 1 candidates, totalling 5 fits\n",
      "贝叶斯优化完成，最佳参数： OrderedDict([('coef0', -0.22821140984595067), ('degree', 6), ('tol', 0.08400946427180485)])\n",
      "SVM模型训练完成！\n",
      "开始评估模型...\n",
      "train:\n",
      "Acc:0.7048174286590979 \n",
      "Ua:0.7029278070406941 \n",
      "Macro_F1:0.7095203809192903 \n",
      "Pre:0.7268209692548271\n",
      "Confuse_matrix:\n",
      "[[416  71 112   7]\n",
      " [ 55 534 220  82]\n",
      " [ 32  82 821 131]\n",
      " [  7  24 139 526]]\n",
      "已找到保存的特征文件 './feature/dev_feature.npy'，正在加载...\n",
      "特征加载完毕！\n",
      "最小-最大归一化完成\n",
      "开始评估模型...\n",
      "dev:\n",
      "Acc:0.5645004849660524 \n",
      "Ua:0.5623049938546562 \n",
      "Macro_F1:0.5638231747916148 \n",
      "Pre:0.5880186807284096\n",
      "Confuse_matrix:\n",
      "[[200  54  71   2]\n",
      " [ 76 128  84  15]\n",
      " [ 11  45 180  22]\n",
      " [  4   3  62  74]]\n",
      "已找到保存的特征文件 './feature/test_feature.npy'，正在加载...\n",
      "特征加载完毕！\n",
      "最小-最大归一化完成\n",
      "1241\n",
      "测试集预测结果已成功写入到文件中！\n"
     ]
    }
   ],
   "source": [
    "## 特征处理函数，可以对提取的特征进行处理，以获得更好的特征表示\n",
    "def feature_process(feature):\n",
    "    return feature\n",
    "\n",
    "## 主函数\n",
    "if __name__ == \"__main__\":\n",
    "    ## 实例化模型\n",
    "    rf = MyRF()\n",
    "    ## 提取训练样本特征\n",
    "    ## 文件数量很多时需要的时间较长，请耐心等待\n",
    "    train_save_path=\"./feature/train_feature.npy\"\n",
    "    train_feature = extract_audio_feature(train_path,train_save_path) ## np.array (n,88)\n",
    "    train_feature_normalized, scaler = normalize_features(train_feature, method='minmax')\n",
    "    train_feature = feature_process(train_feature_normalized)\n",
    "\n",
    "    ##训练模型\n",
    "    rf.train(train_feature_normalized,train_label)\n",
    "    ##评估在训练集上的拟合效果\n",
    "    acc,ua,f1,pre,confuse_matrix = rf.evaluate(train_feature_normalized,np.array(train_label))\n",
    "    print(f\"train:\\nAcc:{acc} \\nUa:{ua} \\nMacro_F1:{f1} \\nPre:{pre}\\nConfuse_matrix:\\n{confuse_matrix}\")\n",
    "    \n",
    "    ##计算在dev上的性能\n",
    "    dev_save_path=\"./feature/dev_feature.npy\"\n",
    "    dev_feature = extract_audio_feature(dev_path,dev_save_path)\n",
    "    dev_feature_normalized, _ = normalize_features(dev_feature, scaler=scaler, method='minmax')\n",
    "    dev_feature = feature_process(dev_feature_normalized)\n",
    "    acc,ua,f1,pre,confuse_matrix = rf.evaluate(dev_feature_normalized,np.array(dev_label))\n",
    "    print(f\"dev:\\nAcc:{acc} \\nUa:{ua} \\nMacro_F1:{f1} \\nPre:{pre}\\nConfuse_matrix:\\n{confuse_matrix}\")\n",
    "    \n",
    "    #rf.show_and_save_models(\"model_info.txt\")\n",
    "    ##读入test.csv\n",
    "    test_csv = pd.read_csv(\"./CSVfile/test.csv\",sep = \"#\")\n",
    "    test_path = list(test_csv.path)\n",
    "    test_save_path=\"./feature/test_feature.npy\"\n",
    "    test_feature = extract_audio_feature(test_path,test_save_path)\n",
    "    test_feature_normalized, _ = normalize_features(test_feature, scaler=scaler, method='minmax')\n",
    "    test_label = rf.model.predict(test_feature_normalized)\n",
    "    test_preds = test_label\n",
    "    print(len(test_feature))\n",
    "    \n",
    "    ## 通过模型获得测试集对应的标签列表test_preds，并写入到result.csv文件中\n",
    "    write_result(test_preds)"
   ]
  },
  {
   "cell_type": "code",
   "execution_count": null,
   "id": "2add4368-4312-4972-a6f7-fdea31f31d8e",
   "metadata": {},
   "outputs": [],
   "source": []
  }
 ],
 "metadata": {
  "kernelspec": {
   "display_name": "pp2",
   "language": "python",
   "name": "python3"
  },
  "language_info": {
   "codemirror_mode": {
    "name": "ipython",
    "version": 3
   },
   "file_extension": ".py",
   "mimetype": "text/x-python",
   "name": "python",
   "nbconvert_exporter": "python",
   "pygments_lexer": "ipython3",
   "version": "3.9.20"
  }
 },
 "nbformat": 4,
 "nbformat_minor": 5
}
